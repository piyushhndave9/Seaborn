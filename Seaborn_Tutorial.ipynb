{
  "nbformat": 4,
  "nbformat_minor": 0,
  "metadata": {
    "kernelspec": {
      "display_name": "Python 3",
      "language": "python",
      "name": "python3"
    },
    "language_info": {
      "codemirror_mode": {
        "name": "ipython",
        "version": 3
      },
      "file_extension": ".py",
      "mimetype": "text/x-python",
      "name": "python",
      "nbconvert_exporter": "python",
      "pygments_lexer": "ipython3",
      "version": "3.8.5"
    },
    "colab": {
      "name": "Seaborn Tutorial.ipynb",
      "provenance": [],
      "collapsed_sections": []
    }
  },
  "cells": [
    {
      "cell_type": "markdown",
      "metadata": {
        "id": "jvDdqqi1NP7_"
      },
      "source": [
        "## Distribution & Categorical Plots\n",
        " "
      ]
    },
    {
      "cell_type": "code",
      "metadata": {
        "id": "jcT8_9wzNP8A"
      },
      "source": [
        "import seaborn as sn"
      ],
      "execution_count": null,
      "outputs": []
    },
    {
      "cell_type": "markdown",
      "metadata": {
        "id": "o9WoGJb2NP8F"
      },
      "source": [
        "## Distribution Plots\n"
      ]
    },
    {
      "cell_type": "code",
      "metadata": {
        "id": "c5sKf0hVNP8G"
      },
      "source": [
        "data = sn.load_dataset('tips')"
      ],
      "execution_count": null,
      "outputs": []
    },
    {
      "cell_type": "code",
      "metadata": {
        "id": "23XQPoe4YNMF"
      },
      "source": [
        "data"
      ],
      "execution_count": null,
      "outputs": []
    },
    {
      "cell_type": "code",
      "metadata": {
        "id": "g63t7IS7YJCN"
      },
      "source": [
        "data.columns"
      ],
      "execution_count": null,
      "outputs": []
    },
    {
      "cell_type": "code",
      "metadata": {
        "id": "DwnX60VCNP8L"
      },
      "source": [
        "sn.distplot(data['total_bill'])"
      ],
      "execution_count": null,
      "outputs": []
    },
    {
      "cell_type": "code",
      "metadata": {
        "id": "-3hJxoj-Ypdv"
      },
      "source": [
        "sn.distplot(data['tip'])"
      ],
      "execution_count": null,
      "outputs": []
    },
    {
      "cell_type": "code",
      "metadata": {
        "id": "flSeFjt0NP8P"
      },
      "source": [
        "sn.jointplot(x='total_bill',y='tip',data=data)"
      ],
      "execution_count": null,
      "outputs": []
    },
    {
      "cell_type": "code",
      "metadata": {
        "id": "mfLed2OEZGnH"
      },
      "source": [
        "sn.jointplot(x='total_bill',y='tip',data=data, kind='hex')"
      ],
      "execution_count": null,
      "outputs": []
    },
    {
      "cell_type": "code",
      "metadata": {
        "id": "ypuad-ElZS4t"
      },
      "source": [
        "sn.jointplot(x='total_bill',y='tip',data=data,kind='reg' )"
      ],
      "execution_count": null,
      "outputs": []
    },
    {
      "cell_type": "code",
      "metadata": {
        "id": "jJatkdgsZssz"
      },
      "source": [
        "sn.jointplot(x='total_bill',y='tip',data=data,kind='kde' )"
      ],
      "execution_count": null,
      "outputs": []
    },
    {
      "cell_type": "code",
      "metadata": {
        "id": "tsYyqlapNP8b"
      },
      "source": [
        "sn.pairplot(data)"
      ],
      "execution_count": null,
      "outputs": []
    },
    {
      "cell_type": "code",
      "metadata": {
        "id": "_XM2xOgoNP8h"
      },
      "source": [
        "sn.rugplot(data['tip'])"
      ],
      "execution_count": null,
      "outputs": []
    },
    {
      "cell_type": "code",
      "metadata": {
        "id": "Wjzd3jW_NP8k"
      },
      "source": [
        "sn.kdeplot(data['tip'])"
      ],
      "execution_count": null,
      "outputs": []
    },
    {
      "cell_type": "code",
      "metadata": {
        "id": "dbucl54QNP8m"
      },
      "source": [
        "sn.rugplot(data['tip'])\n",
        "sn.kdeplot(data['tip'])"
      ],
      "execution_count": null,
      "outputs": []
    },
    {
      "cell_type": "code",
      "metadata": {
        "id": "z5AT672HNP8o"
      },
      "source": [
        "sn.barplot(x='size',y='total_bill', hue= \"sex\", data=data)"
      ],
      "execution_count": null,
      "outputs": []
    },
    {
      "cell_type": "code",
      "metadata": {
        "id": "gHz4MzotNP8s"
      },
      "source": [
        "sn.countplot(x='size',data=data)"
      ],
      "execution_count": null,
      "outputs": []
    },
    {
      "cell_type": "code",
      "metadata": {
        "id": "aFwv7N6TNP8u"
      },
      "source": [
        "sn.boxplot(x='size',y='total_bill',data=data)"
      ],
      "execution_count": null,
      "outputs": []
    },
    {
      "cell_type": "code",
      "metadata": {
        "id": "VKAQig-XNP82"
      },
      "source": [
        "sn.violinplot(x='size',y='total_bill',data=data)"
      ],
      "execution_count": null,
      "outputs": []
    },
    {
      "cell_type": "code",
      "metadata": {
        "id": "JHRHyYO3NP86"
      },
      "source": [
        "sn.violinplot(x='size',y='total_bill',data=data, hue='sex',split=True)"
      ],
      "execution_count": null,
      "outputs": []
    },
    {
      "cell_type": "code",
      "metadata": {
        "id": "cE3vNJclNP87"
      },
      "source": [
        "sn.boxenplot(x='size',y='total_bill',data=data)"
      ],
      "execution_count": null,
      "outputs": []
    },
    {
      "cell_type": "code",
      "metadata": {
        "id": "wVTWsQt7NP89"
      },
      "source": [
        "sn.boxenplot(x='size',y='total_bill',data=data)"
      ],
      "execution_count": null,
      "outputs": []
    },
    {
      "cell_type": "code",
      "metadata": {
        "id": "SvlWSgaLNP9B"
      },
      "source": [
        "sn.stripplot(x='size',y='total_bill',data=data)"
      ],
      "execution_count": null,
      "outputs": []
    },
    {
      "cell_type": "code",
      "metadata": {
        "id": "-BMZcs3lNP9H"
      },
      "source": [
        "sn.swarmplot(x='size',y='total_bill',data=data)"
      ],
      "execution_count": null,
      "outputs": []
    },
    {
      "cell_type": "code",
      "metadata": {
        "id": "YxVjGt56NP9Y"
      },
      "source": [
        "sn.catplot(x='size',y='total_bill',data=data)"
      ],
      "execution_count": null,
      "outputs": []
    },
    {
      "cell_type": "code",
      "metadata": {
        "id": "ka3MR69bNP9Z"
      },
      "source": [
        "sn.catplot(x='size',y='total_bill',data=data,kind=\"point\")"
      ],
      "execution_count": null,
      "outputs": []
    },
    {
      "cell_type": "code",
      "metadata": {
        "id": "ux8NdCLaNP9b"
      },
      "source": [
        "sn.catplot(x='size',y='total_bill',data=data,kind=\"boxen\")"
      ],
      "execution_count": null,
      "outputs": []
    },
    {
      "cell_type": "code",
      "metadata": {
        "id": "CYJ9WI0tJQPZ"
      },
      "source": [
        "#correlatted data for the dataset \n",
        "data.corr()"
      ],
      "execution_count": null,
      "outputs": []
    },
    {
      "cell_type": "code",
      "metadata": {
        "id": "uSMVGYwgJSqx"
      },
      "source": [
        "sn.heatmap(data.corr())"
      ],
      "execution_count": null,
      "outputs": []
    },
    {
      "cell_type": "code",
      "metadata": {
        "id": "YgBTbJIHJUSH"
      },
      "source": [
        "data.pivot_table(values='total_bill',index='tip',columns='sex')"
      ],
      "execution_count": null,
      "outputs": []
    },
    {
      "cell_type": "code",
      "metadata": {
        "id": "9sH7UFqEJV_E"
      },
      "source": [
        "import matplotlib.pyplot as plt\n",
        "\n",
        "data_map = sn.PairGrid(data)\n",
        "data_map.map(plt.scatter)"
      ],
      "execution_count": null,
      "outputs": []
    },
    {
      "cell_type": "code",
      "metadata": {
        "id": "Hay8jRgbJjLJ"
      },
      "source": [
        "sn.lmplot(x='total_bill',y='tip',data=data)"
      ],
      "execution_count": null,
      "outputs": []
    },
    {
      "cell_type": "code",
      "metadata": {
        "id": "JFBw02qMJ5dP"
      },
      "source": [
        "sn.lmplot(x='total_bill',y='tip',data=data, hue='sex')"
      ],
      "execution_count": null,
      "outputs": []
    },
    {
      "cell_type": "code",
      "metadata": {
        "id": "i7regKyfJ9VG"
      },
      "source": [
        "sn.lmplot(x='total_bill',y='tip',data=data, hue='sex', markers=['x','^'])\n"
      ],
      "execution_count": null,
      "outputs": []
    },
    {
      "cell_type": "code",
      "metadata": {
        "id": "BhsLKypbKnnS"
      },
      "source": [
        "sn.lmplot(x='total_bill',y='tip',data=data, col='sex')"
      ],
      "execution_count": null,
      "outputs": []
    },
    {
      "cell_type": "code",
      "metadata": {
        "id": "njFSjopnLWRz"
      },
      "source": [
        "sn.countplot(x='size', data=data)"
      ],
      "execution_count": null,
      "outputs": []
    },
    {
      "cell_type": "code",
      "metadata": {
        "id": "NW9q8jn_LikM"
      },
      "source": [
        "sn.distplot(data['tip'])"
      ],
      "execution_count": null,
      "outputs": []
    },
    {
      "cell_type": "code",
      "metadata": {
        "id": "Uc7zAsFiLbdU"
      },
      "source": [
        "sn.relplot(x='total_bill',y='tip',data=data)"
      ],
      "execution_count": null,
      "outputs": []
    }
  ]
}